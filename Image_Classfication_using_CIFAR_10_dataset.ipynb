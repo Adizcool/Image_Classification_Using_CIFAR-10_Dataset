{
  "nbformat": 4,
  "nbformat_minor": 0,
  "metadata": {
    "colab": {
      "name": "Image Classfication using CIFAR 10 dataset.ipynb",
      "provenance": [],
      "collapsed_sections": [],
      "authorship_tag": "ABX9TyMOK7Wfy0/wWhPKTCIIUo/U",
      "include_colab_link": true
    },
    "kernelspec": {
      "name": "python3",
      "display_name": "Python 3"
    },
    "language_info": {
      "name": "python"
    }
  },
  "cells": [
    {
      "cell_type": "markdown",
      "metadata": {
        "id": "view-in-github",
        "colab_type": "text"
      },
      "source": [
        "<a href=\"https://colab.research.google.com/github/Adizcool/Image_Classification_Using_CIFAR-10_Dataset/blob/main/Image_Classfication_using_CIFAR_10_dataset.ipynb\" target=\"_parent\"><img src=\"https://colab.research.google.com/assets/colab-badge.svg\" alt=\"Open In Colab\"/></a>"
      ]
    },
    {
      "cell_type": "markdown",
      "metadata": {
        "id": "KVE3Y56xH3ta"
      },
      "source": [
        "# CNN Image classification using CIFAR Dataset"
      ]
    },
    {
      "cell_type": "markdown",
      "metadata": {
        "id": "7in3L7hnH9dN"
      },
      "source": [
        "### Importing Libraries"
      ]
    },
    {
      "cell_type": "code",
      "metadata": {
        "id": "LJy5V9T9Hs5Z"
      },
      "source": [
        "import numpy as np\n",
        "import tensorflow as tf\n",
        "from tensorflow.keras import datasets, layers, models\n",
        "import matplotlib.pyplot as plt"
      ],
      "execution_count": null,
      "outputs": []
    },
    {
      "cell_type": "markdown",
      "metadata": {
        "id": "xmYPRqglIb-4"
      },
      "source": [
        "### Loading Dataset and creating Training and Testing sets"
      ]
    },
    {
      "cell_type": "code",
      "metadata": {
        "colab": {
          "base_uri": "https://localhost:8080/"
        },
        "id": "TJ4xH3_7IWHv",
        "outputId": "400d974e-ffb7-4aec-e128-d0c0aa0fe69e"
      },
      "source": [
        "(x_train, y_train), (x_test, y_test) = datasets.cifar10.load_data()\n",
        "x_train.shape"
      ],
      "execution_count": null,
      "outputs": [
        {
          "output_type": "stream",
          "name": "stdout",
          "text": [
            "Downloading data from https://www.cs.toronto.edu/~kriz/cifar-10-python.tar.gz\n",
            "170500096/170498071 [==============================] - 4s 0us/step\n",
            "170508288/170498071 [==============================] - 4s 0us/step\n"
          ]
        },
        {
          "output_type": "execute_result",
          "data": {
            "text/plain": [
              "(50000, 32, 32, 3)"
            ]
          },
          "metadata": {},
          "execution_count": 2
        }
      ]
    },
    {
      "cell_type": "code",
      "metadata": {
        "colab": {
          "base_uri": "https://localhost:8080/"
        },
        "id": "IAHrncIPJG4S",
        "outputId": "80b9857d-a436-4b06-cbe1-a8e4fd1e478c"
      },
      "source": [
        "x_test.shape"
      ],
      "execution_count": null,
      "outputs": [
        {
          "output_type": "execute_result",
          "data": {
            "text/plain": [
              "(10000, 32, 32, 3)"
            ]
          },
          "metadata": {},
          "execution_count": 3
        }
      ]
    },
    {
      "cell_type": "code",
      "metadata": {
        "colab": {
          "base_uri": "https://localhost:8080/"
        },
        "id": "FFQtYGGEJJwu",
        "outputId": "b2348fe6-4da8-4cb2-b64f-9759e4a93509"
      },
      "source": [
        "x_train[0]"
      ],
      "execution_count": null,
      "outputs": [
        {
          "output_type": "execute_result",
          "data": {
            "text/plain": [
              "array([[[ 59,  62,  63],\n",
              "        [ 43,  46,  45],\n",
              "        [ 50,  48,  43],\n",
              "        ...,\n",
              "        [158, 132, 108],\n",
              "        [152, 125, 102],\n",
              "        [148, 124, 103]],\n",
              "\n",
              "       [[ 16,  20,  20],\n",
              "        [  0,   0,   0],\n",
              "        [ 18,   8,   0],\n",
              "        ...,\n",
              "        [123,  88,  55],\n",
              "        [119,  83,  50],\n",
              "        [122,  87,  57]],\n",
              "\n",
              "       [[ 25,  24,  21],\n",
              "        [ 16,   7,   0],\n",
              "        [ 49,  27,   8],\n",
              "        ...,\n",
              "        [118,  84,  50],\n",
              "        [120,  84,  50],\n",
              "        [109,  73,  42]],\n",
              "\n",
              "       ...,\n",
              "\n",
              "       [[208, 170,  96],\n",
              "        [201, 153,  34],\n",
              "        [198, 161,  26],\n",
              "        ...,\n",
              "        [160, 133,  70],\n",
              "        [ 56,  31,   7],\n",
              "        [ 53,  34,  20]],\n",
              "\n",
              "       [[180, 139,  96],\n",
              "        [173, 123,  42],\n",
              "        [186, 144,  30],\n",
              "        ...,\n",
              "        [184, 148,  94],\n",
              "        [ 97,  62,  34],\n",
              "        [ 83,  53,  34]],\n",
              "\n",
              "       [[177, 144, 116],\n",
              "        [168, 129,  94],\n",
              "        [179, 142,  87],\n",
              "        ...,\n",
              "        [216, 184, 140],\n",
              "        [151, 118,  84],\n",
              "        [123,  92,  72]]], dtype=uint8)"
            ]
          },
          "metadata": {},
          "execution_count": 4
        }
      ]
    },
    {
      "cell_type": "code",
      "metadata": {
        "colab": {
          "base_uri": "https://localhost:8080/",
          "height": 283
        },
        "id": "ErpF8Va9JNi-",
        "outputId": "1a01b3e3-748f-4ef3-d515-5d3f6020d07c"
      },
      "source": [
        "plt.imshow(x_train[0])"
      ],
      "execution_count": null,
      "outputs": [
        {
          "output_type": "execute_result",
          "data": {
            "text/plain": [
              "<matplotlib.image.AxesImage at 0x7f9dfb270510>"
            ]
          },
          "metadata": {},
          "execution_count": 5
        },
        {
          "output_type": "display_data",
          "data": {
            "image/png": "[encoded data removed]",
            "text/plain": [
              "<Figure size 432x288 with 1 Axes>"
            ]
          },
          "metadata": {
            "needs_background": "light"
          }
        }
      ]
    },
    {
      "cell_type": "code",
      "metadata": {
        "colab": {
          "base_uri": "https://localhost:8080/"
        },
        "id": "IAdPnOoAJY8b",
        "outputId": "a563931c-f1f6-4622-e7f5-7bb63c001a8d"
      },
      "source": [
        "y_train.shape"
      ],
      "execution_count": null,
      "outputs": [
        {
          "output_type": "execute_result",
          "data": {
            "text/plain": [
              "(50000, 1)"
            ]
          },
          "metadata": {},
          "execution_count": 6
        }
      ]
    },
    {
      "cell_type": "code",
      "metadata": {
        "colab": {
          "base_uri": "https://localhost:8080/"
        },
        "id": "pM9geoulJyxd",
        "outputId": "b1c7ef9e-10b5-4f1c-e251-d6963e203388"
      },
      "source": [
        "y_train[:5]"
      ],
      "execution_count": null,
      "outputs": [
        {
          "output_type": "execute_result",
          "data": {
            "text/plain": [
              "array([[6],\n",
              "       [9],\n",
              "       [9],\n",
              "       [4],\n",
              "       [1]], dtype=uint8)"
            ]
          },
          "metadata": {},
          "execution_count": 7
        }
      ]
    },
    {
      "cell_type": "code",
      "metadata": {
        "colab": {
          "base_uri": "https://localhost:8080/"
        },
        "id": "GePZiTAJJ33V",
        "outputId": "76090df6-1aee-46e9-e593-21e08a4e5752"
      },
      "source": [
        "y_train = y_train.reshape(-1, )\n",
        "y_train"
      ],
      "execution_count": null,
      "outputs": [
        {
          "output_type": "execute_result",
          "data": {
            "text/plain": [
              "array([6, 9, 9, ..., 9, 1, 1], dtype=uint8)"
            ]
          },
          "metadata": {},
          "execution_count": 8
        }
      ]
    },
    {
      "cell_type": "markdown",
      "metadata": {
        "id": "qe0Xfbx6KnaH"
      },
      "source": [
        "### Defining lables and function to display images"
      ]
    },
    {
      "cell_type": "code",
      "metadata": {
        "id": "6-IkHSpsKHM3"
      },
      "source": [
        "classes = [\"airplane\",\"automobile\",\"bird\",\"cat\",\"deer\",\"dog\",\"frog\",\"horse\",\"ship\",\"truck\"]"
      ],
      "execution_count": null,
      "outputs": []
    },
    {
      "cell_type": "code",
      "metadata": {
        "id": "ZKVYoa9jKXC6"
      },
      "source": [
        "def plotimg (x, y, index):\n",
        "  plt.imshow(x[index])\n",
        "  plt.xlabel(classes[y[index]])"
      ],
      "execution_count": null,
      "outputs": []
    },
    {
      "cell_type": "code",
      "metadata": {
        "colab": {
          "base_uri": "https://localhost:8080/",
          "height": 280
        },
        "id": "-Xl1z_boK0FF",
        "outputId": "68470db2-2853-4ad8-d1d8-cfae9b7d2d4f"
      },
      "source": [
        "plotimg(x_train, y_train, 0)"
      ],
      "execution_count": null,
      "outputs": [
        {
          "output_type": "display_data",
          "data": {
            "image/png": "[encoded data removed]",
            "text/plain": [
              "<Figure size 432x288 with 1 Axes>"
            ]
          },
          "metadata": {
            "needs_background": "light"
          }
        }
      ]
    },
    {
      "cell_type": "markdown",
      "metadata": {
        "id": "xKJtP_zgLLgd"
      },
      "source": [
        "### Normalizing the pixel values"
      ]
    },
    {
      "cell_type": "code",
      "metadata": {
        "id": "tvw3ud3BK4au"
      },
      "source": [
        "#pixel values from 0 to 255\n",
        "x_train = x_train / 255\n",
        "x_test = x_test / 255"
      ],
      "execution_count": null,
      "outputs": []
    },
    {
      "cell_type": "markdown",
      "metadata": {
        "id": "ByQTgspZMJq_"
      },
      "source": [
        "### Using simple ANN for image classification"
      ]
    },
    {
      "cell_type": "code",
      "metadata": {
        "colab": {
          "base_uri": "https://localhost:8080/"
        },
        "id": "EtGgzpsPMFo7",
        "outputId": "3e19f2af-c5de-434a-940d-379c343b7c77"
      },
      "source": [
        "#Flattening layer to 32x32, passing it through 2 layers with 3000 and 1000 neurons and finally classifying it into one of 10 classes\n",
        "ann = models.Sequential([\n",
        "                        layers.Flatten(input_shape=(32,32,3)),\n",
        "                        layers.Dense(3000, activation='relu'),\n",
        "                        layers.Dense(1000, activation='relu'),\n",
        "                        layers.Dense(10, activation='softmax')    \n",
        "                        ])\n",
        "\n",
        "#Compiling metric arguments for ANN\n",
        "ann.compile(optimizer='SGD',\n",
        "              loss='sparse_categorical_crossentropy',\n",
        "              metrics=['accuracy'])\n",
        "\n",
        "#Training the ANN\n",
        "ann.fit(x_train, y_train, epochs = 10)"
      ],
      "execution_count": null,
      "outputs": [
        {
          "output_type": "stream",
          "name": "stdout",
          "text": [
            "Epoch 1/10\n",
            "1563/1563 [==============================] - 89s 56ms/step - loss: 1.8145 - accuracy: 0.3540\n",
            "Epoch 2/10\n",
            "1563/1563 [==============================] - 88s 56ms/step - loss: 1.6258 - accuracy: 0.4272\n",
            "Epoch 3/10\n",
            "1563/1563 [==============================] - 88s 56ms/step - loss: 1.5428 - accuracy: 0.4568\n",
            "Epoch 4/10\n",
            "1563/1563 [==============================] - 88s 56ms/step - loss: 1.4837 - accuracy: 0.4772\n",
            "Epoch 5/10\n",
            "1563/1563 [==============================] - 87s 56ms/step - loss: 1.4342 - accuracy: 0.4940\n",
            "Epoch 6/10\n",
            "1563/1563 [==============================] - 87s 56ms/step - loss: 1.3885 - accuracy: 0.5120\n",
            "Epoch 7/10\n",
            "1563/1563 [==============================] - 87s 56ms/step - loss: 1.3517 - accuracy: 0.5223\n",
            "Epoch 8/10\n",
            "1563/1563 [==============================] - 87s 56ms/step - loss: 1.3175 - accuracy: 0.5346\n",
            "Epoch 9/10\n",
            "1563/1563 [==============================] - 87s 56ms/step - loss: 1.2859 - accuracy: 0.5483\n",
            "Epoch 10/10\n",
            "1563/1563 [==============================] - 87s 56ms/step - loss: 1.2543 - accuracy: 0.5612\n"
          ]
        },
        {
          "output_type": "execute_result",
          "data": {
            "text/plain": [
              "<keras.callbacks.History at 0x7f9dfb1eebd0>"
            ]
          },
          "metadata": {},
          "execution_count": 13
        }
      ]
    },
    {
      "cell_type": "code",
      "metadata": {
        "colab": {
          "base_uri": "https://localhost:8080/"
        },
        "id": "N0sxfChcSfd8",
        "outputId": "7a0a7ff5-16e4-4d7e-eef0-a67a4b78d5a1"
      },
      "source": [
        "ann.evaluate(x_test, y_test)"
      ],
      "execution_count": null,
      "outputs": [
        {
          "output_type": "stream",
          "name": "stdout",
          "text": [
            "313/313 [==============================] - 6s 20ms/step - loss: 1.5092 - accuracy: 0.4622\n"
          ]
        },
        {
          "output_type": "execute_result",
          "data": {
            "text/plain": [
              "[1.5092377662658691, 0.46219998598098755]"
            ]
          },
          "metadata": {},
          "execution_count": 14
        }
      ]
    },
    {
      "cell_type": "code",
      "metadata": {
        "colab": {
          "base_uri": "https://localhost:8080/"
        },
        "id": "SCr35FUNSirj",
        "outputId": "526cb43e-5ddd-463b-c297-43e4aa17d42b"
      },
      "source": [
        "from sklearn.metrics import confusion_matrix , classification_report\n",
        "import numpy as np\n",
        "y_pred = ann.predict(x_test)\n",
        "y_pred_classes = [np.argmax(element) for element in y_pred]\n",
        "\n",
        "print(\"Classification Report: \\n\", classification_report(y_test, y_pred_classes))\n"
      ],
      "execution_count": null,
      "outputs": [
        {
          "output_type": "stream",
          "name": "stdout",
          "text": [
            "Classification Report: \n",
            "               precision    recall  f1-score   support\n",
            "\n",
            "           0       0.72      0.32      0.45      1000\n",
            "           1       0.38      0.84      0.52      1000\n",
            "           2       0.63      0.10      0.18      1000\n",
            "           3       0.38      0.33      0.35      1000\n",
            "           4       0.43      0.50      0.46      1000\n",
            "           5       0.47      0.36      0.41      1000\n",
            "           6       0.58      0.52      0.55      1000\n",
            "           7       0.52      0.66      0.58      1000\n",
            "           8       0.42      0.80      0.55      1000\n",
            "           9       0.60      0.18      0.28      1000\n",
            "\n",
            "    accuracy                           0.46     10000\n",
            "   macro avg       0.51      0.46      0.43     10000\n",
            "weighted avg       0.51      0.46      0.43     10000\n",
            "\n"
          ]
        }
      ]
    },
    {
      "cell_type": "markdown",
      "metadata": {
        "id": "3XC5VNKdS73o"
      },
      "source": [
        "### As we can see, ANN does not provide us with high accuracy or precision for any class"
      ]
    },
    {
      "cell_type": "markdown",
      "metadata": {
        "id": "5HirLjhaZVKD"
      },
      "source": [
        "### Now let us build a CNN"
      ]
    },
    {
      "cell_type": "code",
      "metadata": {
        "id": "4WsHLacUTF0G"
      },
      "source": [
        "cnn = models.Sequential([\n",
        "                        #cnn\n",
        "                        \n",
        "                        #convolution value\n",
        "                        layers.Conv2D(filters=32, kernel_size=(3, 3), activation='relu', input_shape=(32, 32, 3)),\n",
        "                        #pooling\n",
        "                        layers.MaxPooling2D((2, 2)),\n",
        "\n",
        "                        #second layer\n",
        "                        layers.Conv2D(filters=64, kernel_size=(3, 3), activation='relu'),\n",
        "                        layers.MaxPooling2D((2, 2)),\n",
        "    \n",
        "                        #dense\n",
        "                        layers.Flatten(),\n",
        "                        #Not too many layers required for cnn\n",
        "                        layers.Dense(128, activation='relu'),\n",
        "                        #Softmax will give normalized values\n",
        "                        layers.Dense(10, activation='softmax')\n",
        "                       ])"
      ],
      "execution_count": null,
      "outputs": []
    },
    {
      "cell_type": "code",
      "metadata": {
        "id": "vrbub7hmrzL6"
      },
      "source": [
        "#compiling cnn\n",
        "cnn.compile(optimizer = 'adam',\n",
        "              loss = 'sparse_categorical_crossentropy',\n",
        "              metrics = ['accuracy']\n",
        "           )"
      ],
      "execution_count": null,
      "outputs": []
    },
    {
      "cell_type": "code",
      "metadata": {
        "colab": {
          "base_uri": "https://localhost:8080/"
        },
        "id": "CzUbjD70sOCl",
        "outputId": "9c9fb705-1baf-4cb8-c561-5103651ad5c0"
      },
      "source": [
        "cnn.fit(x_train, y_train, epochs = 10)"
      ],
      "execution_count": null,
      "outputs": [
        {
          "output_type": "stream",
          "name": "stdout",
          "text": [
            "Epoch 1/10\n",
            "1563/1563 [==============================] - 56s 36ms/step - loss: 1.3818 - accuracy: 0.5069\n",
            "Epoch 2/10\n",
            "1563/1563 [==============================] - 56s 36ms/step - loss: 1.0428 - accuracy: 0.6343\n",
            "Epoch 3/10\n",
            "1563/1563 [==============================] - 56s 36ms/step - loss: 0.9110 - accuracy: 0.6822\n",
            "Epoch 4/10\n",
            "1563/1563 [==============================] - 56s 36ms/step - loss: 0.8082 - accuracy: 0.7190\n",
            "Epoch 5/10\n",
            "1563/1563 [==============================] - 56s 36ms/step - loss: 0.7248 - accuracy: 0.7468\n",
            "Epoch 6/10\n",
            "1563/1563 [==============================] - 56s 36ms/step - loss: 0.6488 - accuracy: 0.7744\n",
            "Epoch 7/10\n",
            "1563/1563 [==============================] - 56s 36ms/step - loss: 0.5817 - accuracy: 0.7963\n",
            "Epoch 8/10\n",
            "1563/1563 [==============================] - 57s 36ms/step - loss: 0.5160 - accuracy: 0.8208\n",
            "Epoch 9/10\n",
            "1563/1563 [==============================] - 57s 36ms/step - loss: 0.4571 - accuracy: 0.8407\n",
            "Epoch 10/10\n",
            "1563/1563 [==============================] - 57s 36ms/step - loss: 0.4044 - accuracy: 0.8586\n"
          ]
        },
        {
          "output_type": "execute_result",
          "data": {
            "text/plain": [
              "<keras.callbacks.History at 0x7f9dec23af10>"
            ]
          },
          "metadata": {},
          "execution_count": 18
        }
      ]
    },
    {
      "cell_type": "code",
      "metadata": {
        "colab": {
          "base_uri": "https://localhost:8080/"
        },
        "id": "qu3D49WnzB1O",
        "outputId": "c8d9b063-de5f-49a2-d747-a6f6ffba57a7"
      },
      "source": [
        "cnn.evaluate(x_test, y_test)"
      ],
      "execution_count": null,
      "outputs": [
        {
          "output_type": "stream",
          "name": "stdout",
          "text": [
            "313/313 [==============================] - 3s 10ms/step - loss: 1.0134 - accuracy: 0.7064\n"
          ]
        },
        {
          "output_type": "execute_result",
          "data": {
            "text/plain": [
              "[1.0133732557296753, 0.7063999772071838]"
            ]
          },
          "metadata": {},
          "execution_count": 19
        }
      ]
    },
    {
      "cell_type": "code",
      "metadata": {
        "id": "uu0vib9tzFpG"
      },
      "source": [
        "y_test = y_test.reshape(-1, ) "
      ],
      "execution_count": null,
      "outputs": []
    },
    {
      "cell_type": "code",
      "metadata": {
        "colab": {
          "base_uri": "https://localhost:8080/",
          "height": 280
        },
        "id": "laHMkNWxTf7e",
        "outputId": "aa7d3220-ef9f-485a-faa7-c56f2999f789"
      },
      "source": [
        "plotimg(x_test, y_test, 1)"
      ],
      "execution_count": null,
      "outputs": [
        {
          "output_type": "display_data",
          "data": {
            "image/png": "[encoded data removed]",
            "text/plain": [
              "<Figure size 432x288 with 1 Axes>"
            ]
          },
          "metadata": {
            "needs_background": "light"
          }
        }
      ]
    },
    {
      "cell_type": "code",
      "metadata": {
        "colab": {
          "base_uri": "https://localhost:8080/"
        },
        "id": "FdRUsfCmTlUx",
        "outputId": "28d12ae2-419b-497d-88ca-5e0a7a4d1a99"
      },
      "source": [
        "y_pred = cnn.predict(x_test)\n",
        "y_pred[:5]"
      ],
      "execution_count": null,
      "outputs": [
        {
          "output_type": "execute_result",
          "data": {
            "text/plain": [
              "array([[2.47180986e-04, 1.26756215e-03, 8.44160188e-03, 9.75062609e-01,\n",
              "        4.42643541e-05, 8.94459710e-03, 1.80856150e-03, 2.09923783e-05,\n",
              "        4.14508116e-03, 1.75109744e-05],\n",
              "       [4.43069381e-04, 1.94873691e-01, 1.49221862e-07, 2.53174315e-10,\n",
              "        3.14846393e-09, 6.81350878e-11, 1.18049025e-11, 6.03084943e-12,\n",
              "        8.01957726e-01, 2.72536394e-03],\n",
              "       [4.20570467e-03, 2.54779812e-02, 4.45289956e-03, 3.48395412e-03,\n",
              "        2.00417731e-03, 8.23301889e-05, 2.12074519e-05, 2.39007888e-04,\n",
              "        9.14272785e-01, 4.57600169e-02],\n",
              "       [8.61161411e-01, 1.58983155e-03, 2.80216988e-02, 1.22283818e-02,\n",
              "        3.72098684e-02, 3.21554398e-05, 9.28050031e-06, 2.54189695e-06,\n",
              "        5.97436205e-02, 1.09281950e-06],\n",
              "       [6.19038687e-08, 3.73480475e-07, 5.42199879e-04, 3.74685563e-02,\n",
              "        8.47152293e-01, 1.81340074e-04, 1.14644833e-01, 1.96517234e-07,\n",
              "        9.06743571e-06, 9.97343250e-07]], dtype=float32)"
            ]
          },
          "metadata": {},
          "execution_count": 22
        }
      ]
    },
    {
      "cell_type": "code",
      "metadata": {
        "colab": {
          "base_uri": "https://localhost:8080/"
        },
        "id": "WA8_D4EZT-Ey",
        "outputId": "6f0676c3-a2f7-45b7-f92a-f57e77d7aea9"
      },
      "source": [
        "y_classes = [np.argmax(i) for i in y_pred]\n",
        "y_classes[:5]"
      ],
      "execution_count": null,
      "outputs": [
        {
          "output_type": "execute_result",
          "data": {
            "text/plain": [
              "[3, 8, 8, 0, 4]"
            ]
          },
          "metadata": {},
          "execution_count": 23
        }
      ]
    },
    {
      "cell_type": "code",
      "metadata": {
        "colab": {
          "base_uri": "https://localhost:8080/"
        },
        "id": "j2fSHsmzgtDz",
        "outputId": "4498ae63-f216-45a8-b84c-6aa6f7e2731f"
      },
      "source": [
        "y_test[:5]"
      ],
      "execution_count": null,
      "outputs": [
        {
          "output_type": "execute_result",
          "data": {
            "text/plain": [
              "array([3, 8, 8, 0, 6], dtype=uint8)"
            ]
          },
          "metadata": {},
          "execution_count": 24
        }
      ]
    },
    {
      "cell_type": "code",
      "metadata": {
        "colab": {
          "base_uri": "https://localhost:8080/",
          "height": 280
        },
        "id": "q9kurIyvg6fz",
        "outputId": "98079f64-0ae2-4bc0-d919-1129ccffadb8"
      },
      "source": [
        "plotimg(x_test, y_test, 2)"
      ],
      "execution_count": null,
      "outputs": [
        {
          "output_type": "display_data",
          "data": {
            "image/png": "[encoded data removed]",
            "text/plain": [
              "<Figure size 432x288 with 1 Axes>"
            ]
          },
          "metadata": {
            "needs_background": "light"
          }
        }
      ]
    },
    {
      "cell_type": "code",
      "metadata": {
        "colab": {
          "base_uri": "https://localhost:8080/",
          "height": 35
        },
        "id": "QHbfbQRjhFUK",
        "outputId": "4dab2575-bca8-42e6-9845-4b3b47da4394"
      },
      "source": [
        "classes[y_classes[2]]"
      ],
      "execution_count": null,
      "outputs": [
        {
          "output_type": "execute_result",
          "data": {
            "application/vnd.google.colaboratory.intrinsic+json": {
              "type": "string"
            },
            "text/plain": [
              "'ship'"
            ]
          },
          "metadata": {},
          "execution_count": 26
        }
      ]
    },
    {
      "cell_type": "code",
      "metadata": {
        "colab": {
          "base_uri": "https://localhost:8080/"
        },
        "id": "tNR_n2sThIuw",
        "outputId": "c10b532d-bcae-48bf-eb42-51f623673abc"
      },
      "source": [
        "print(\"Classification Report: \\n\", classification_report(y_test, y_classes))"
      ],
      "execution_count": null,
      "outputs": [
        {
          "output_type": "stream",
          "name": "stdout",
          "text": [
            "Classification Report: \n",
            "               precision    recall  f1-score   support\n",
            "\n",
            "           0       0.74      0.71      0.73      1000\n",
            "           1       0.82      0.82      0.82      1000\n",
            "           2       0.68      0.54      0.61      1000\n",
            "           3       0.52      0.55      0.54      1000\n",
            "           4       0.64      0.67      0.65      1000\n",
            "           5       0.67      0.54      0.60      1000\n",
            "           6       0.78      0.78      0.78      1000\n",
            "           7       0.69      0.80      0.74      1000\n",
            "           8       0.73      0.85      0.78      1000\n",
            "           9       0.79      0.81      0.80      1000\n",
            "\n",
            "    accuracy                           0.71     10000\n",
            "   macro avg       0.71      0.71      0.70     10000\n",
            "weighted avg       0.71      0.71      0.70     10000\n",
            "\n"
          ]
        }
      ]
    },
    {
      "cell_type": "markdown",
      "metadata": {
        "id": "goh8JbLkmJ15"
      },
      "source": [
        "### We notice that CNN is able to produce much better results than the ANN model"
      ]
    },
    {
      "cell_type": "markdown",
      "metadata": {
        "id": "2ilw8wJhlQV7"
      },
      "source": [
        "# Predicting an image outside the dataset"
      ]
    },
    {
      "cell_type": "code",
      "metadata": {
        "id": "NR7y1CH6hVT6",
        "colab": {
          "base_uri": "https://localhost:8080/"
        },
        "outputId": "a2d938be-9e9e-4ddf-b28e-d3abf52db33b"
      },
      "source": [
        "from google.colab import drive\n",
        "drive.mount('/content/gdrive')"
      ],
      "execution_count": null,
      "outputs": [
        {
          "output_type": "stream",
          "name": "stdout",
          "text": [
            "Mounted at /content/gdrive\n"
          ]
        }
      ]
    },
    {
      "cell_type": "code",
      "metadata": {
        "id": "dzo7BZSriqnE"
      },
      "source": [
        "from keras.preprocessing.image import load_img\n",
        "from keras.preprocessing.image import img_to_array\n",
        "\n",
        "#loading the image\n",
        "img = load_img(r\"gdrive/My Drive/Colab Notebooks/ship.jpg\", target_size=(32, 32))\n",
        "img2 = img\n",
        "#converting the image to an array\n",
        "img = img_to_array(img)\n",
        "img = img.reshape(1, 32, 32, 3)\n",
        "#preparing the pixel data\n",
        "img = img.astype('float32')\n",
        "img = img / 255.0\n",
        "\n",
        "result = cnn.predict(img)"
      ],
      "execution_count": null,
      "outputs": []
    },
    {
      "cell_type": "code",
      "metadata": {
        "id": "Y7og4Fb9lnim",
        "colab": {
          "base_uri": "https://localhost:8080/",
          "height": 283
        },
        "outputId": "44a869f9-2b44-414f-ca88-e67dea34944a"
      },
      "source": [
        "plt.imshow(img2)"
      ],
      "execution_count": null,
      "outputs": [
        {
          "output_type": "execute_result",
          "data": {
            "text/plain": [
              "<matplotlib.image.AxesImage at 0x7f9df31b0d50>"
            ]
          },
          "metadata": {},
          "execution_count": 33
        },
        {
          "output_type": "display_data",
          "data": {
            "image/png": "[encoded data removed]",
            "text/plain": [
              "<Figure size 432x288 with 1 Axes>"
            ]
          },
          "metadata": {
            "needs_background": "light"
          }
        }
      ]
    },
    {
      "cell_type": "code",
      "metadata": {
        "id": "ITwXcVyAjLOc"
      },
      "source": [
        "ans = [np.argmax(i) for i in result]"
      ],
      "execution_count": null,
      "outputs": []
    },
    {
      "cell_type": "code",
      "metadata": {
        "id": "xwIJvL6Lk1mE",
        "colab": {
          "base_uri": "https://localhost:8080/",
          "height": 35
        },
        "outputId": "446c513e-37cd-41c0-fd9a-0491473ef524"
      },
      "source": [
        "classes[ans[0]]"
      ],
      "execution_count": null,
      "outputs": [
        {
          "output_type": "execute_result",
          "data": {
            "application/vnd.google.colaboratory.intrinsic+json": {
              "type": "string"
            },
            "text/plain": [
              "'ship'"
            ]
          },
          "metadata": {},
          "execution_count": 32
        }
      ]
    },
    {
      "cell_type": "markdown",
      "metadata": {
        "id": "7AGHhhLylyGR"
      },
      "source": [
        "# Thus we can safely conclude that the CNN model we created is able to predict images of classes present in the dataset accurately"
      ]
    }
  ]
}